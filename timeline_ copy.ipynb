{
 "cells": [
  {
   "cell_type": "code",
   "execution_count": 2,
   "metadata": {},
   "outputs": [],
   "source": [
    "from requests_oauthlib import OAuth1Session\n",
    "import json\n",
    "Consumer_Key='dOBTJptpf1PfzKkcWxTd4ERUR'\n",
    "Consumer_Secret='8ESHo7CdiL44uzIn1KbyB45H2qmPG9a3MGUvaEqX152TNiVqvM'\n",
    "Access_Token='835844452149178368-QY0KLwcBwjPAdqBWPGMFqQ5xf8Hs1B9'\n",
    "Access_Token_Secret='6e9uhvCVah94euBaGLpoVAp23DEEkdsOgt9FoDrwbmPPN'\n",
    "twitter = OAuth1Session(Consumer_Key,Consumer_Secret,Access_Token,Access_Token_Secret)"
   ]
  },
  {
   "cell_type": "code",
   "execution_count": 12,
   "metadata": {
    "collapsed": true
   },
   "outputs": [],
   "source": [
    "import re\n",
    "pattern_home=r\"u# .*\""
   ]
  },
  {
   "cell_type": "code",
   "execution_count": 15,
   "metadata": {},
   "outputs": [
    {
     "data": {
      "text/plain": [
       "'pure_flora1209'"
      ]
     },
     "execution_count": 15,
     "metadata": {},
     "output_type": "execute_result"
    }
   ],
   "source": [
    "text='u# pure_flora1209'\n",
    "text[3:]"
   ]
  },
  {
   "cell_type": "code",
   "execution_count": 17,
   "metadata": {},
   "outputs": [
    {
     "name": "stdout",
     "output_type": "stream",
     "text": [
      "RT @blood_sucking_v: @rirakonbu @lian04444  https://t.co/UwG1Zoq0jk\n",
      "RT @rirakonbu: このモコズキッチンの\n",
      "料理はやばい！😂www https://t.co/tvdxjUhR6L\n",
      "@tsubasa1234_098 (´｡･v･｡｀)ｲｲﾅｧ\n",
      "今日、携帯忘れてoasisの公衆電話借りようと、場所を警備のおいさんに聞きました。と、その人は元附属の警備の人みたいで、『附属おったよね！』って言われました。『はい！お久しぶりです！』って言ったけど覚えてなかったです。ゴメンなさいm(｡&gt;__&lt;｡)mごめん\n",
      "おなかすいたー\n",
      "レム睡眠、ノンレム睡眠記録φ('ᴗ'」) 寝言が『そうだよね〜』だった件についてww\n",
      "ほんとに騙され過ぎててwww\n",
      "RT @yurina85458: @kinnpatuhikarrn 本物こっちね\n",
      "偽物のアカウントなのに、なんでこんなにフォロワー多いの？なんでRT多いのかも謎。みんな引っかかりすぎ、つられすぎ。 https://t.co/3wKkpM0nSL\n",
      "あららん、喉がいったーいっっ\n",
      "いやぁ、ね！猫に逃げられなくて良かったよ☺️❣️\n",
      "おうち広い！感動！のびのび！\n",
      "一人暮らしより広いのは自明w\n",
      "大分着！\n",
      "@miserarenai190 どしたん？何事！？\n",
      "２時間ふらーり！明日からはまた色々しないといけないし…(´･_･`)\n",
      "しかしだな、スグにお腹いっぱいになるのだ😂👐\n",
      "480円とか安すぎ！\n",
      "大分への帰路の途中、小倉駅に立ち寄り🎶\n",
      "ランチなう☺️💃 https://t.co/xraMVmVGS3\n",
      "いつ通ったんやろ？警報なったんかな？\n",
      "北朝鮮ミサイル通過😱😱😱😱😱\n",
      "でも、きっとみんな会いに行ってる？うーーーん🤔🤦‍♀️\n",
      "\n"
     ]
    }
   ],
   "source": [
    "if re.match(pattern_home,text):\n",
    "    params={'screen_name':text[3:]}\n",
    "    req = twitter.get(\"https://api.twitter.com/1.1/statuses/user_timeline.json\", params = params)\n",
    "    timeline=json.loads(req.text)\n",
    "    reply=''\n",
    "    for tweet in timeline:\n",
    "        #print(tweet['text'])\n",
    "        reply += (tweet['text'] + '\\n')\n",
    "    print(reply)"
   ]
  },
  {
   "cell_type": "code",
   "execution_count": 25,
   "metadata": {},
   "outputs": [
    {
     "name": "stdout",
     "output_type": "stream",
     "text": [
      "外国人旅行者が急増の都市、1位はパレスチナ自治区\n",
      "https://t.co/GxqFapLBwD\n",
      "#世界観光指標 #パレスチナ https://t.co/sIM4mNrSy1\n",
      "RT @wstcg: 【速報】ヴァイスシュヴァルツに「この素晴らしい世界に祝福を！２」が参戦決定！ブースターパックが2018年1月12日に発売予定です！ 今後の続報をお楽しみに♪ #このすば #ws2tcg https://t.co/cAvHwFwnTG\n",
      "採用される人、されない人についての真実\n",
      "https://t.co/Je1dHNzPnm\n",
      "#採用 #面接 https://t.co/pWFW07wdtW\n",
      "Infographic: 5 markets Amazon is charging into: https://t.co/FxabzmZ8iV https://t.co/hiroNgb6nP\n",
      "RT @miyachi_hisa: 今は、国連軍縮担当上級代表ですね\n",
      "◇国連の日本人ナンバー2が語る、「世界の不条理」に私が教わったこと | Forbes JAPAN（フォーブス ジャパン） 016/09/05　https://t.co/liPmcaJBUo\n",
      "RT @uno_uno_0716: ソフトバンクさんにご招待頂いて白戸家展に行ってきたよ♪♪\n",
      "\n",
      "真っ白く美しくて愛らしくてお利口なお父さん🐶にメロメロです♡\n",
      "\n",
      "癒されたฅ՞•ﻌ•՞ฅﾜﾝ\n",
      "\n",
      "10年間ありがとうってどうなるの？？🤔… https://t.co/WUspUbOmIo\n",
      "The countdown to #ERedCarpet is on—stay tuned for a behind-the-scenes look with @erinlimofficial of @enews tomorrow… https://t.co/eW7PQuh80w\n",
      "RT @koikekazuo: 今日は、雨音で目が覚めました。これから九州に上陸するそうですが、どうか日本全国で被害が出ませんように。どうしても外に出なければならない仕事の人もいらっしゃるでしょうが、無理をなさらず。おはようございます。\n",
      "RT @tenkijp: 【台風18号　九州に台風本体の雨雲】 https://t.co/tvcIAWFb4S 九州には台風本体の雨雲がかかり、局地的に猛烈な雨が降っています。台風18号は強い勢力を維持しています..\n",
      "test\n",
      "雷ってすごいね\n",
      "本当に近くに落ちると、えげつない音の大きさで耳がすごく痛くなる\n",
      "地響きもやばいし、地面も余震！？って思うレベルに揺れるってことがわかって手の震えが止まらない💭\n",
      "トム・ヨークも参加する音楽配信サイト「Bandcamp」　LGBT支援を表明\n",
      "https://t.co/IUWTpv0VRf\n",
      "#LGBT #Bandcamp https://t.co/pED4YlFjR9\n",
      "今年も登場する #ユニクロ の #セーター なら、自宅で簡単に洗えます。\n",
      "今回は「自宅でできる、セーターのお手入れ法」をご紹介致します。\n",
      "詳しくはこちら：https://t.co/dee2wwOJI2\n",
      "#LifeWear Book… https://t.co/tUICKuQDmx\n",
      "他国の料理に関する知識、米国人の成績は「落第点」？\n",
      "https://t.co/PD4kzIZbCh\n",
      "#料理 #調査結果 https://t.co/FpBl2VifSo\n",
      "なんだかほっとする居場所がある、それだけでも大きな支えになりますよね♪ \n",
      "#チャリティスマイル の寄付先団体「四つ葉のクローバー」では、若者に温かい居場所を提供します。\n",
      "\n",
      "https://t.co/x0kdkA53nk… https://t.co/WN4fHfG4Dc\n",
      "With new fundraising, 9-month-old bike-sharing startup is said to be worth $200 million: https://t.co/Nic0gfepVm https://t.co/XvJcI019ga\n",
      "【ポケんちこのあとすぐ】ピカちゅうえいとあばれる君が、なんと「日本一長い○○」に挑戦？ ヒントは”あばれる君”……!? https://t.co/O4XBQJJPIW #ポケモン #ポケんち https://t.co/1poxe8mcTd\n",
      "＼9月17日7時11分／\n",
      "秋といえば・・・読書の秋📚\n",
      "\n",
      "セブンカフェと一緒に、ゆっくり読書を楽しむのもいいですね♪\n",
      "\n",
      "#711時報 https://t.co/26ipK1Vqan\n",
      "「もち食感ロール(北海道産生乳入りクリーム)」です(^^)1個ずつ切れているので食べやすいです♪ #ローソン #ウチカフェ #スイーツ https://t.co/jhFxlz2T0Y https://t.co/178EEOdtvY\n",
      "Massive Uber-SoftBank deal inching closer to a close as ride-hailing investment war heats up:… https://t.co/ndsZGoklBq\n",
      "\n"
     ]
    }
   ],
   "source": [
    "trxt='h#'\n",
    "pattern_home=r\"h#\"\n",
    "#if re.match(pattern_home,text):\n",
    "req=twitter.get('https://api.twitter.com/1.1/statuses/home_timeline.json')\n",
    "home=json.loads(req.text)\n",
    "reply=''\n",
    "for tweet in home:\n",
    "    reply+=(tweet['text']+ '\\n')\n",
    "print(reply)"
   ]
  },
  {
   "cell_type": "code",
   "execution_count": 21,
   "metadata": {},
   "outputs": [
    {
     "name": "stdout",
     "output_type": "stream",
     "text": [
      "外国人旅行者が急増の都市、1位はパレスチナ自治区\n",
      "https://t.co/GxqFapLBwD\n",
      "#世界観光指標 #パレスチナ https://t.co/sIM4mNrSy1\n",
      "RT @wstcg: 【速報】ヴァイスシュヴァルツに「この素晴らしい世界に祝福を！２」が参戦決定！ブースターパックが2018年1月12日に発売予定です！ 今後の続報をお楽しみに♪ #このすば #ws2tcg https://t.co/cAvHwFwnTG\n",
      "採用される人、されない人についての真実\n",
      "https://t.co/Je1dHNzPnm\n",
      "#採用 #面接 https://t.co/pWFW07wdtW\n",
      "Infographic: 5 markets Amazon is charging into: https://t.co/FxabzmZ8iV https://t.co/hiroNgb6nP\n",
      "RT @miyachi_hisa: 今は、国連軍縮担当上級代表ですね\n",
      "◇国連の日本人ナンバー2が語る、「世界の不条理」に私が教わったこと | Forbes JAPAN（フォーブス ジャパン） 016/09/05　https://t.co/liPmcaJBUo\n",
      "RT @uno_uno_0716: ソフトバンクさんにご招待頂いて白戸家展に行ってきたよ♪♪\n",
      "\n",
      "真っ白く美しくて愛らしくてお利口なお父さん🐶にメロメロです♡\n",
      "\n",
      "癒されたฅ՞•ﻌ•՞ฅﾜﾝ\n",
      "\n",
      "10年間ありがとうってどうなるの？？🤔… https://t.co/WUspUbOmIo\n",
      "The countdown to #ERedCarpet is on—stay tuned for a behind-the-scenes look with @erinlimofficial of @enews tomorrow… https://t.co/eW7PQuh80w\n",
      "RT @koikekazuo: 今日は、雨音で目が覚めました。これから九州に上陸するそうですが、どうか日本全国で被害が出ませんように。どうしても外に出なければならない仕事の人もいらっしゃるでしょうが、無理をなさらず。おはようございます。\n",
      "RT @tenkijp: 【台風18号　九州に台風本体の雨雲】 https://t.co/tvcIAWFb4S 九州には台風本体の雨雲がかかり、局地的に猛烈な雨が降っています。台風18号は強い勢力を維持しています..\n",
      "test\n",
      "雷ってすごいね\n",
      "本当に近くに落ちると、えげつない音の大きさで耳がすごく痛くなる\n",
      "地響きもやばいし、地面も余震！？って思うレベルに揺れるってことがわかって手の震えが止まらない💭\n",
      "トム・ヨークも参加する音楽配信サイト「Bandcamp」　LGBT支援を表明\n",
      "https://t.co/IUWTpv0VRf\n",
      "#LGBT #Bandcamp https://t.co/pED4YlFjR9\n",
      "今年も登場する #ユニクロ の #セーター なら、自宅で簡単に洗えます。\n",
      "今回は「自宅でできる、セーターのお手入れ法」をご紹介致します。\n",
      "詳しくはこちら：https://t.co/dee2wwOJI2\n",
      "#LifeWear Book… https://t.co/tUICKuQDmx\n",
      "他国の料理に関する知識、米国人の成績は「落第点」？\n",
      "https://t.co/PD4kzIZbCh\n",
      "#料理 #調査結果 https://t.co/FpBl2VifSo\n",
      "なんだかほっとする居場所がある、それだけでも大きな支えになりますよね♪ \n",
      "#チャリティスマイル の寄付先団体「四つ葉のクローバー」では、若者に温かい居場所を提供します。\n",
      "\n",
      "https://t.co/x0kdkA53nk… https://t.co/WN4fHfG4Dc\n",
      "With new fundraising, 9-month-old bike-sharing startup is said to be worth $200 million: https://t.co/Nic0gfepVm https://t.co/XvJcI019ga\n",
      "【ポケんちこのあとすぐ】ピカちゅうえいとあばれる君が、なんと「日本一長い○○」に挑戦？ ヒントは”あばれる君”……!? https://t.co/O4XBQJJPIW #ポケモン #ポケんち https://t.co/1poxe8mcTd\n",
      "＼9月17日7時11分／\n",
      "秋といえば・・・読書の秋📚\n",
      "\n",
      "セブンカフェと一緒に、ゆっくり読書を楽しむのもいいですね♪\n",
      "\n",
      "#711時報 https://t.co/26ipK1Vqan\n",
      "「もち食感ロール(北海道産生乳入りクリーム)」です(^^)1個ずつ切れているので食べやすいです♪ #ローソン #ウチカフェ #スイーツ https://t.co/jhFxlz2T0Y https://t.co/178EEOdtvY\n",
      "Massive Uber-SoftBank deal inching closer to a close as ride-hailing investment war heats up:… https://t.co/ndsZGoklBq\n"
     ]
    }
   ],
   "source": [
    "req=twitter.get('https://api.twitter.com/1.1/statuses/home_timeline.json')\n",
    "home=json.loads(req.text)\n",
    "#reply=''\n",
    "for tweet in home:\n",
    "    #reply+=(tweet['text']+ '\\n')\n",
    "    print(tweet['text'])"
   ]
  },
  {
   "cell_type": "code",
   "execution_count": null,
   "metadata": {
    "collapsed": true
   },
   "outputs": [],
   "source": []
  }
 ],
 "metadata": {
  "kernelspec": {
   "display_name": "Python 3",
   "language": "python",
   "name": "python3"
  },
  "language_info": {
   "codemirror_mode": {
    "name": "ipython",
    "version": 3
   },
   "file_extension": ".py",
   "mimetype": "text/x-python",
   "name": "python",
   "nbconvert_exporter": "python",
   "pygments_lexer": "ipython3",
   "version": "3.6.1"
  }
 },
 "nbformat": 4,
 "nbformat_minor": 2
}
